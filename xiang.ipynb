{
  "nbformat": 4,
  "nbformat_minor": 0,
  "metadata": {
    "colab": {
      "name": "Untitled2.ipynb",
      "provenance": [],
      "collapsed_sections": [],
      "toc_visible": true
    },
    "kernelspec": {
      "name": "python3",
      "display_name": "Python 3"
    },
    "widgets": {
      "application/vnd.jupyter.widget-state+json": {
        "d943b68d4bc944399ad6d84347b6274f": {
          "model_module": "@jupyter-widgets/controls",
          "model_name": "HBoxModel",
          "state": {
            "_view_name": "HBoxView",
            "_dom_classes": [],
            "_model_name": "HBoxModel",
            "_view_module": "@jupyter-widgets/controls",
            "_model_module_version": "1.5.0",
            "_view_count": null,
            "_view_module_version": "1.5.0",
            "box_style": "",
            "layout": "IPY_MODEL_5a5be3410ae04463b5183f367e4eb5db",
            "_model_module": "@jupyter-widgets/controls",
            "children": [
              "IPY_MODEL_a486e724722746fea323b0a82f78392d",
              "IPY_MODEL_9983adfbf16c495298e93b9b74ab4abf"
            ]
          }
        },
        "5a5be3410ae04463b5183f367e4eb5db": {
          "model_module": "@jupyter-widgets/base",
          "model_name": "LayoutModel",
          "state": {
            "_view_name": "LayoutView",
            "grid_template_rows": null,
            "right": null,
            "justify_content": null,
            "_view_module": "@jupyter-widgets/base",
            "overflow": null,
            "_model_module_version": "1.2.0",
            "_view_count": null,
            "flex_flow": null,
            "width": null,
            "min_width": null,
            "border": null,
            "align_items": null,
            "bottom": null,
            "_model_module": "@jupyter-widgets/base",
            "top": null,
            "grid_column": null,
            "overflow_y": null,
            "overflow_x": null,
            "grid_auto_flow": null,
            "grid_area": null,
            "grid_template_columns": null,
            "flex": null,
            "_model_name": "LayoutModel",
            "justify_items": null,
            "grid_row": null,
            "max_height": null,
            "align_content": null,
            "visibility": null,
            "align_self": null,
            "height": null,
            "min_height": null,
            "padding": null,
            "grid_auto_rows": null,
            "grid_gap": null,
            "max_width": null,
            "order": null,
            "_view_module_version": "1.2.0",
            "grid_template_areas": null,
            "object_position": null,
            "object_fit": null,
            "grid_auto_columns": null,
            "margin": null,
            "display": null,
            "left": null
          }
        },
        "a486e724722746fea323b0a82f78392d": {
          "model_module": "@jupyter-widgets/controls",
          "model_name": "IntProgressModel",
          "state": {
            "_view_name": "ProgressView",
            "style": "IPY_MODEL_63b36d73ad414246910b43c21cf83f80",
            "_dom_classes": [],
            "description": "Downloading",
            "_model_name": "IntProgressModel",
            "bar_style": "success",
            "max": 995526,
            "_view_module": "@jupyter-widgets/controls",
            "_model_module_version": "1.5.0",
            "value": 995526,
            "_view_count": null,
            "_view_module_version": "1.5.0",
            "orientation": "horizontal",
            "min": 0,
            "description_tooltip": null,
            "_model_module": "@jupyter-widgets/controls",
            "layout": "IPY_MODEL_78d3c2812a164ae883e09e3eb64527a2"
          }
        },
        "9983adfbf16c495298e93b9b74ab4abf": {
          "model_module": "@jupyter-widgets/controls",
          "model_name": "HTMLModel",
          "state": {
            "_view_name": "HTMLView",
            "style": "IPY_MODEL_e83ab45f23f64df685229f1e3d0ade56",
            "_dom_classes": [],
            "description": "",
            "_model_name": "HTMLModel",
            "placeholder": "​",
            "_view_module": "@jupyter-widgets/controls",
            "_model_module_version": "1.5.0",
            "value": "100% 996k/996k [00:01&lt;00:00, 898kB/s]",
            "_view_count": null,
            "_view_module_version": "1.5.0",
            "description_tooltip": null,
            "_model_module": "@jupyter-widgets/controls",
            "layout": "IPY_MODEL_8060d0b6fee643aa82e9d19117647dd4"
          }
        },
        "63b36d73ad414246910b43c21cf83f80": {
          "model_module": "@jupyter-widgets/controls",
          "model_name": "ProgressStyleModel",
          "state": {
            "_view_name": "StyleView",
            "_model_name": "ProgressStyleModel",
            "description_width": "initial",
            "_view_module": "@jupyter-widgets/base",
            "_model_module_version": "1.5.0",
            "_view_count": null,
            "_view_module_version": "1.2.0",
            "bar_color": null,
            "_model_module": "@jupyter-widgets/controls"
          }
        },
        "78d3c2812a164ae883e09e3eb64527a2": {
          "model_module": "@jupyter-widgets/base",
          "model_name": "LayoutModel",
          "state": {
            "_view_name": "LayoutView",
            "grid_template_rows": null,
            "right": null,
            "justify_content": null,
            "_view_module": "@jupyter-widgets/base",
            "overflow": null,
            "_model_module_version": "1.2.0",
            "_view_count": null,
            "flex_flow": null,
            "width": null,
            "min_width": null,
            "border": null,
            "align_items": null,
            "bottom": null,
            "_model_module": "@jupyter-widgets/base",
            "top": null,
            "grid_column": null,
            "overflow_y": null,
            "overflow_x": null,
            "grid_auto_flow": null,
            "grid_area": null,
            "grid_template_columns": null,
            "flex": null,
            "_model_name": "LayoutModel",
            "justify_items": null,
            "grid_row": null,
            "max_height": null,
            "align_content": null,
            "visibility": null,
            "align_self": null,
            "height": null,
            "min_height": null,
            "padding": null,
            "grid_auto_rows": null,
            "grid_gap": null,
            "max_width": null,
            "order": null,
            "_view_module_version": "1.2.0",
            "grid_template_areas": null,
            "object_position": null,
            "object_fit": null,
            "grid_auto_columns": null,
            "margin": null,
            "display": null,
            "left": null
          }
        },
        "e83ab45f23f64df685229f1e3d0ade56": {
          "model_module": "@jupyter-widgets/controls",
          "model_name": "DescriptionStyleModel",
          "state": {
            "_view_name": "StyleView",
            "_model_name": "DescriptionStyleModel",
            "description_width": "",
            "_view_module": "@jupyter-widgets/base",
            "_model_module_version": "1.5.0",
            "_view_count": null,
            "_view_module_version": "1.2.0",
            "_model_module": "@jupyter-widgets/controls"
          }
        },
        "8060d0b6fee643aa82e9d19117647dd4": {
          "model_module": "@jupyter-widgets/base",
          "model_name": "LayoutModel",
          "state": {
            "_view_name": "LayoutView",
            "grid_template_rows": null,
            "right": null,
            "justify_content": null,
            "_view_module": "@jupyter-widgets/base",
            "overflow": null,
            "_model_module_version": "1.2.0",
            "_view_count": null,
            "flex_flow": null,
            "width": null,
            "min_width": null,
            "border": null,
            "align_items": null,
            "bottom": null,
            "_model_module": "@jupyter-widgets/base",
            "top": null,
            "grid_column": null,
            "overflow_y": null,
            "overflow_x": null,
            "grid_auto_flow": null,
            "grid_area": null,
            "grid_template_columns": null,
            "flex": null,
            "_model_name": "LayoutModel",
            "justify_items": null,
            "grid_row": null,
            "max_height": null,
            "align_content": null,
            "visibility": null,
            "align_self": null,
            "height": null,
            "min_height": null,
            "padding": null,
            "grid_auto_rows": null,
            "grid_gap": null,
            "max_width": null,
            "order": null,
            "_view_module_version": "1.2.0",
            "grid_template_areas": null,
            "object_position": null,
            "object_fit": null,
            "grid_auto_columns": null,
            "margin": null,
            "display": null,
            "left": null
          }
        },
        "386bd1165b794a67b1559b2481469f31": {
          "model_module": "@jupyter-widgets/controls",
          "model_name": "HBoxModel",
          "state": {
            "_view_name": "HBoxView",
            "_dom_classes": [],
            "_model_name": "HBoxModel",
            "_view_module": "@jupyter-widgets/controls",
            "_model_module_version": "1.5.0",
            "_view_count": null,
            "_view_module_version": "1.5.0",
            "box_style": "",
            "layout": "IPY_MODEL_cca9e7b1fe7e42dab40fd81d4d723a03",
            "_model_module": "@jupyter-widgets/controls",
            "children": [
              "IPY_MODEL_ad4e3682a2ee4d0ebfbaa99dd2d31d45",
              "IPY_MODEL_43fa47af0be343cfb9c7dbc900684b0c"
            ]
          }
        },
        "cca9e7b1fe7e42dab40fd81d4d723a03": {
          "model_module": "@jupyter-widgets/base",
          "model_name": "LayoutModel",
          "state": {
            "_view_name": "LayoutView",
            "grid_template_rows": null,
            "right": null,
            "justify_content": null,
            "_view_module": "@jupyter-widgets/base",
            "overflow": null,
            "_model_module_version": "1.2.0",
            "_view_count": null,
            "flex_flow": null,
            "width": null,
            "min_width": null,
            "border": null,
            "align_items": null,
            "bottom": null,
            "_model_module": "@jupyter-widgets/base",
            "top": null,
            "grid_column": null,
            "overflow_y": null,
            "overflow_x": null,
            "grid_auto_flow": null,
            "grid_area": null,
            "grid_template_columns": null,
            "flex": null,
            "_model_name": "LayoutModel",
            "justify_items": null,
            "grid_row": null,
            "max_height": null,
            "align_content": null,
            "visibility": null,
            "align_self": null,
            "height": null,
            "min_height": null,
            "padding": null,
            "grid_auto_rows": null,
            "grid_gap": null,
            "max_width": null,
            "order": null,
            "_view_module_version": "1.2.0",
            "grid_template_areas": null,
            "object_position": null,
            "object_fit": null,
            "grid_auto_columns": null,
            "margin": null,
            "display": null,
            "left": null
          }
        },
        "ad4e3682a2ee4d0ebfbaa99dd2d31d45": {
          "model_module": "@jupyter-widgets/controls",
          "model_name": "IntProgressModel",
          "state": {
            "_view_name": "ProgressView",
            "style": "IPY_MODEL_a7a8f3e006f34eab8951dde8f86c34c5",
            "_dom_classes": [],
            "description": "Downloading",
            "_model_name": "IntProgressModel",
            "bar_style": "success",
            "max": 569,
            "_view_module": "@jupyter-widgets/controls",
            "_model_module_version": "1.5.0",
            "value": 569,
            "_view_count": null,
            "_view_module_version": "1.5.0",
            "orientation": "horizontal",
            "min": 0,
            "description_tooltip": null,
            "_model_module": "@jupyter-widgets/controls",
            "layout": "IPY_MODEL_857423a77bd94805917290602a77e8ee"
          }
        },
        "43fa47af0be343cfb9c7dbc900684b0c": {
          "model_module": "@jupyter-widgets/controls",
          "model_name": "HTMLModel",
          "state": {
            "_view_name": "HTMLView",
            "style": "IPY_MODEL_8559a89951b447a6bfce4ee70ee97cd0",
            "_dom_classes": [],
            "description": "",
            "_model_name": "HTMLModel",
            "placeholder": "​",
            "_view_module": "@jupyter-widgets/controls",
            "_model_module_version": "1.5.0",
            "value": "100% 569/569 [00:00&lt;00:00, 20.8kB/s]",
            "_view_count": null,
            "_view_module_version": "1.5.0",
            "description_tooltip": null,
            "_model_module": "@jupyter-widgets/controls",
            "layout": "IPY_MODEL_84e3db87b48341e0b6a4d0b7eb2b1f47"
          }
        },
        "a7a8f3e006f34eab8951dde8f86c34c5": {
          "model_module": "@jupyter-widgets/controls",
          "model_name": "ProgressStyleModel",
          "state": {
            "_view_name": "StyleView",
            "_model_name": "ProgressStyleModel",
            "description_width": "initial",
            "_view_module": "@jupyter-widgets/base",
            "_model_module_version": "1.5.0",
            "_view_count": null,
            "_view_module_version": "1.2.0",
            "bar_color": null,
            "_model_module": "@jupyter-widgets/controls"
          }
        },
        "857423a77bd94805917290602a77e8ee": {
          "model_module": "@jupyter-widgets/base",
          "model_name": "LayoutModel",
          "state": {
            "_view_name": "LayoutView",
            "grid_template_rows": null,
            "right": null,
            "justify_content": null,
            "_view_module": "@jupyter-widgets/base",
            "overflow": null,
            "_model_module_version": "1.2.0",
            "_view_count": null,
            "flex_flow": null,
            "width": null,
            "min_width": null,
            "border": null,
            "align_items": null,
            "bottom": null,
            "_model_module": "@jupyter-widgets/base",
            "top": null,
            "grid_column": null,
            "overflow_y": null,
            "overflow_x": null,
            "grid_auto_flow": null,
            "grid_area": null,
            "grid_template_columns": null,
            "flex": null,
            "_model_name": "LayoutModel",
            "justify_items": null,
            "grid_row": null,
            "max_height": null,
            "align_content": null,
            "visibility": null,
            "align_self": null,
            "height": null,
            "min_height": null,
            "padding": null,
            "grid_auto_rows": null,
            "grid_gap": null,
            "max_width": null,
            "order": null,
            "_view_module_version": "1.2.0",
            "grid_template_areas": null,
            "object_position": null,
            "object_fit": null,
            "grid_auto_columns": null,
            "margin": null,
            "display": null,
            "left": null
          }
        },
        "8559a89951b447a6bfce4ee70ee97cd0": {
          "model_module": "@jupyter-widgets/controls",
          "model_name": "DescriptionStyleModel",
          "state": {
            "_view_name": "StyleView",
            "_model_name": "DescriptionStyleModel",
            "description_width": "",
            "_view_module": "@jupyter-widgets/base",
            "_model_module_version": "1.5.0",
            "_view_count": null,
            "_view_module_version": "1.2.0",
            "_model_module": "@jupyter-widgets/controls"
          }
        },
        "84e3db87b48341e0b6a4d0b7eb2b1f47": {
          "model_module": "@jupyter-widgets/base",
          "model_name": "LayoutModel",
          "state": {
            "_view_name": "LayoutView",
            "grid_template_rows": null,
            "right": null,
            "justify_content": null,
            "_view_module": "@jupyter-widgets/base",
            "overflow": null,
            "_model_module_version": "1.2.0",
            "_view_count": null,
            "flex_flow": null,
            "width": null,
            "min_width": null,
            "border": null,
            "align_items": null,
            "bottom": null,
            "_model_module": "@jupyter-widgets/base",
            "top": null,
            "grid_column": null,
            "overflow_y": null,
            "overflow_x": null,
            "grid_auto_flow": null,
            "grid_area": null,
            "grid_template_columns": null,
            "flex": null,
            "_model_name": "LayoutModel",
            "justify_items": null,
            "grid_row": null,
            "max_height": null,
            "align_content": null,
            "visibility": null,
            "align_self": null,
            "height": null,
            "min_height": null,
            "padding": null,
            "grid_auto_rows": null,
            "grid_gap": null,
            "max_width": null,
            "order": null,
            "_view_module_version": "1.2.0",
            "grid_template_areas": null,
            "object_position": null,
            "object_fit": null,
            "grid_auto_columns": null,
            "margin": null,
            "display": null,
            "left": null
          }
        },
        "57456d5281e347649e74841286fd3545": {
          "model_module": "@jupyter-widgets/controls",
          "model_name": "HBoxModel",
          "state": {
            "_view_name": "HBoxView",
            "_dom_classes": [],
            "_model_name": "HBoxModel",
            "_view_module": "@jupyter-widgets/controls",
            "_model_module_version": "1.5.0",
            "_view_count": null,
            "_view_module_version": "1.5.0",
            "box_style": "",
            "layout": "IPY_MODEL_47fdb9804ed241e2a65836d8d9a0ae42",
            "_model_module": "@jupyter-widgets/controls",
            "children": [
              "IPY_MODEL_b36abf612e6844ba9052100ce187937e",
              "IPY_MODEL_3f444cd50505429db71c2f58e4b8134c"
            ]
          }
        },
        "47fdb9804ed241e2a65836d8d9a0ae42": {
          "model_module": "@jupyter-widgets/base",
          "model_name": "LayoutModel",
          "state": {
            "_view_name": "LayoutView",
            "grid_template_rows": null,
            "right": null,
            "justify_content": null,
            "_view_module": "@jupyter-widgets/base",
            "overflow": null,
            "_model_module_version": "1.2.0",
            "_view_count": null,
            "flex_flow": null,
            "width": null,
            "min_width": null,
            "border": null,
            "align_items": null,
            "bottom": null,
            "_model_module": "@jupyter-widgets/base",
            "top": null,
            "grid_column": null,
            "overflow_y": null,
            "overflow_x": null,
            "grid_auto_flow": null,
            "grid_area": null,
            "grid_template_columns": null,
            "flex": null,
            "_model_name": "LayoutModel",
            "justify_items": null,
            "grid_row": null,
            "max_height": null,
            "align_content": null,
            "visibility": null,
            "align_self": null,
            "height": null,
            "min_height": null,
            "padding": null,
            "grid_auto_rows": null,
            "grid_gap": null,
            "max_width": null,
            "order": null,
            "_view_module_version": "1.2.0",
            "grid_template_areas": null,
            "object_position": null,
            "object_fit": null,
            "grid_auto_columns": null,
            "margin": null,
            "display": null,
            "left": null
          }
        },
        "b36abf612e6844ba9052100ce187937e": {
          "model_module": "@jupyter-widgets/controls",
          "model_name": "IntProgressModel",
          "state": {
            "_view_name": "ProgressView",
            "style": "IPY_MODEL_ad5b655a51b84523ad49c92223768153",
            "_dom_classes": [],
            "description": "Downloading",
            "_model_name": "IntProgressModel",
            "bar_style": "success",
            "max": 714314041,
            "_view_module": "@jupyter-widgets/controls",
            "_model_module_version": "1.5.0",
            "value": 714314041,
            "_view_count": null,
            "_view_module_version": "1.5.0",
            "orientation": "horizontal",
            "min": 0,
            "description_tooltip": null,
            "_model_module": "@jupyter-widgets/controls",
            "layout": "IPY_MODEL_17e7b2d375a246e0b08baf6df8ddf412"
          }
        },
        "3f444cd50505429db71c2f58e4b8134c": {
          "model_module": "@jupyter-widgets/controls",
          "model_name": "HTMLModel",
          "state": {
            "_view_name": "HTMLView",
            "style": "IPY_MODEL_8b85e132b8e54eecb2cbab78c8b48b41",
            "_dom_classes": [],
            "description": "",
            "_model_name": "HTMLModel",
            "placeholder": "​",
            "_view_module": "@jupyter-widgets/controls",
            "_model_module_version": "1.5.0",
            "value": "100% 714M/714M [00:59&lt;00:00, 12.1MB/s]",
            "_view_count": null,
            "_view_module_version": "1.5.0",
            "description_tooltip": null,
            "_model_module": "@jupyter-widgets/controls",
            "layout": "IPY_MODEL_326c431a69cc46a09a57ab54eb8b63cb"
          }
        },
        "ad5b655a51b84523ad49c92223768153": {
          "model_module": "@jupyter-widgets/controls",
          "model_name": "ProgressStyleModel",
          "state": {
            "_view_name": "StyleView",
            "_model_name": "ProgressStyleModel",
            "description_width": "initial",
            "_view_module": "@jupyter-widgets/base",
            "_model_module_version": "1.5.0",
            "_view_count": null,
            "_view_module_version": "1.2.0",
            "bar_color": null,
            "_model_module": "@jupyter-widgets/controls"
          }
        },
        "17e7b2d375a246e0b08baf6df8ddf412": {
          "model_module": "@jupyter-widgets/base",
          "model_name": "LayoutModel",
          "state": {
            "_view_name": "LayoutView",
            "grid_template_rows": null,
            "right": null,
            "justify_content": null,
            "_view_module": "@jupyter-widgets/base",
            "overflow": null,
            "_model_module_version": "1.2.0",
            "_view_count": null,
            "flex_flow": null,
            "width": null,
            "min_width": null,
            "border": null,
            "align_items": null,
            "bottom": null,
            "_model_module": "@jupyter-widgets/base",
            "top": null,
            "grid_column": null,
            "overflow_y": null,
            "overflow_x": null,
            "grid_auto_flow": null,
            "grid_area": null,
            "grid_template_columns": null,
            "flex": null,
            "_model_name": "LayoutModel",
            "justify_items": null,
            "grid_row": null,
            "max_height": null,
            "align_content": null,
            "visibility": null,
            "align_self": null,
            "height": null,
            "min_height": null,
            "padding": null,
            "grid_auto_rows": null,
            "grid_gap": null,
            "max_width": null,
            "order": null,
            "_view_module_version": "1.2.0",
            "grid_template_areas": null,
            "object_position": null,
            "object_fit": null,
            "grid_auto_columns": null,
            "margin": null,
            "display": null,
            "left": null
          }
        },
        "8b85e132b8e54eecb2cbab78c8b48b41": {
          "model_module": "@jupyter-widgets/controls",
          "model_name": "DescriptionStyleModel",
          "state": {
            "_view_name": "StyleView",
            "_model_name": "DescriptionStyleModel",
            "description_width": "",
            "_view_module": "@jupyter-widgets/base",
            "_model_module_version": "1.5.0",
            "_view_count": null,
            "_view_module_version": "1.2.0",
            "_model_module": "@jupyter-widgets/controls"
          }
        },
        "326c431a69cc46a09a57ab54eb8b63cb": {
          "model_module": "@jupyter-widgets/base",
          "model_name": "LayoutModel",
          "state": {
            "_view_name": "LayoutView",
            "grid_template_rows": null,
            "right": null,
            "justify_content": null,
            "_view_module": "@jupyter-widgets/base",
            "overflow": null,
            "_model_module_version": "1.2.0",
            "_view_count": null,
            "flex_flow": null,
            "width": null,
            "min_width": null,
            "border": null,
            "align_items": null,
            "bottom": null,
            "_model_module": "@jupyter-widgets/base",
            "top": null,
            "grid_column": null,
            "overflow_y": null,
            "overflow_x": null,
            "grid_auto_flow": null,
            "grid_area": null,
            "grid_template_columns": null,
            "flex": null,
            "_model_name": "LayoutModel",
            "justify_items": null,
            "grid_row": null,
            "max_height": null,
            "align_content": null,
            "visibility": null,
            "align_self": null,
            "height": null,
            "min_height": null,
            "padding": null,
            "grid_auto_rows": null,
            "grid_gap": null,
            "max_width": null,
            "order": null,
            "_view_module_version": "1.2.0",
            "grid_template_areas": null,
            "object_position": null,
            "object_fit": null,
            "grid_auto_columns": null,
            "margin": null,
            "display": null,
            "left": null
          }
        }
      }
    }
  },
  "cells": [
    {
      "cell_type": "code",
      "metadata": {
        "id": "O203mL5ECqAA",
        "colab_type": "code",
        "colab": {}
      },
      "source": [
        "# Uncomment these to lines the first time you run this\n",
        "#!pip install transformers\n",
        "#!wget https://nlp.stanford.edu/software/stanford-postagger-full-2018-10-16.zip\n",
        "#!unzip stanford-postagger-full-2018-10-16.zip"
      ],
      "execution_count": 0,
      "outputs": []
    },
    {
      "cell_type": "code",
      "metadata": {
        "id": "4my4tS-yC0rR",
        "colab_type": "code",
        "colab": {
          "base_uri": "https://localhost:8080/",
          "height": 63
        },
        "outputId": "8933dfbb-be96-47b0-e524-e374ead1b72a"
      },
      "source": [
        "from typing import Tuple\n",
        "\n",
        "import torch\n",
        "from nltk.tag import StanfordPOSTagger\n",
        "from transformers import BertTokenizer, BertForMaskedLM"
      ],
      "execution_count": 2,
      "outputs": [
        {
          "output_type": "display_data",
          "data": {
            "text/html": [
              "<p style=\"color: red;\">\n",
              "The default version of TensorFlow in Colab will soon switch to TensorFlow 2.x.<br>\n",
              "We recommend you <a href=\"https://www.tensorflow.org/guide/migrate\" target=\"_blank\">upgrade</a> now \n",
              "or ensure your notebook will continue to use TensorFlow 1.x via the <code>%tensorflow_version 1.x</code> magic:\n",
              "<a href=\"https://colab.research.google.com/notebooks/tensorflow_version.ipynb\" target=\"_blank\">more info</a>.</p>\n"
            ],
            "text/plain": [
              "<IPython.core.display.HTML object>"
            ]
          },
          "metadata": {
            "tags": []
          }
        }
      ]
    },
    {
      "cell_type": "code",
      "metadata": {
        "id": "gUx927YqCrXw",
        "colab_type": "code",
        "colab": {}
      },
      "source": [
        "ARTICLES = [\"el\", \"la\", \"los\", \"las\", \"un\", \"una\", \"unos\", \"unas\", \"lo\", \"al\"]\n",
        "RELATIVE_PRONOUNS = [\"que\", \"cual\", \"cuales\"]\n",
        "MASK = \"[MASK]\""
      ],
      "execution_count": 0,
      "outputs": []
    },
    {
      "cell_type": "code",
      "metadata": {
        "id": "k9PV50LXDGBD",
        "colab_type": "code",
        "colab": {
          "base_uri": "https://localhost:8080/",
          "height": 232,
          "referenced_widgets": [
            "d943b68d4bc944399ad6d84347b6274f",
            "5a5be3410ae04463b5183f367e4eb5db",
            "a486e724722746fea323b0a82f78392d",
            "9983adfbf16c495298e93b9b74ab4abf",
            "63b36d73ad414246910b43c21cf83f80",
            "78d3c2812a164ae883e09e3eb64527a2",
            "e83ab45f23f64df685229f1e3d0ade56",
            "8060d0b6fee643aa82e9d19117647dd4",
            "386bd1165b794a67b1559b2481469f31",
            "cca9e7b1fe7e42dab40fd81d4d723a03",
            "ad4e3682a2ee4d0ebfbaa99dd2d31d45",
            "43fa47af0be343cfb9c7dbc900684b0c",
            "a7a8f3e006f34eab8951dde8f86c34c5",
            "857423a77bd94805917290602a77e8ee",
            "8559a89951b447a6bfce4ee70ee97cd0",
            "84e3db87b48341e0b6a4d0b7eb2b1f47",
            "57456d5281e347649e74841286fd3545",
            "47fdb9804ed241e2a65836d8d9a0ae42",
            "b36abf612e6844ba9052100ce187937e",
            "3f444cd50505429db71c2f58e4b8134c",
            "ad5b655a51b84523ad49c92223768153",
            "17e7b2d375a246e0b08baf6df8ddf412",
            "8b85e132b8e54eecb2cbab78c8b48b41",
            "326c431a69cc46a09a57ab54eb8b63cb"
          ]
        },
        "outputId": "ab52851d-13a0-492d-8281-6fe86598209a"
      },
      "source": [
        "_jar = \"./stanford-postagger-full-2018-10-16/stanford-postagger-3.9.2.jar\"\n",
        "_tagger = \"./stanford-postagger-full-2018-10-16/models/spanish.tagger\"\n",
        "\n",
        "_pos_tagger = StanfordPOSTagger(_tagger, _jar, encoding=\"utf8\")\n",
        "_tokenizer = BertTokenizer.from_pretrained(\"bert-base-multilingual-cased\")\n",
        "_model = BertForMaskedLM.from_pretrained(\"bert-base-multilingual-cased\")\n",
        "\n",
        "\n",
        "def predictor(text):\n",
        "    text = mask_sentence(text)\n",
        "    masked_indexes = []\n",
        "    tokenized_text = _tokenizer.tokenize(text)\n",
        "    indexed_tokens = _tokenizer.convert_tokens_to_ids(tokenized_text)\n",
        "\n",
        "    index = 0\n",
        "    for tup in zip(tokenized_text, indexed_tokens):\n",
        "        if tup[0] == \"[MASK]\":\n",
        "            masked_indexes.append(index)\n",
        "        index += 1\n",
        "\n",
        "    # Create the segments tensors.\n",
        "    segments_ids = [0] * len(tokenized_text)\n",
        "\n",
        "    # Convert inputs to PyTorch tensors\n",
        "    tokens_tensor = torch.tensor([indexed_tokens])\n",
        "    segments_tensors = torch.tensor([segments_ids])\n",
        "\n",
        "    # Predict all tokens\n",
        "    with torch.no_grad():\n",
        "        outputs = _model(tokens_tensor, token_type_ids=segments_tensors)\n",
        "        predictions = outputs[0]\n",
        "\n",
        "    predicted_tokens = []\n",
        "    for masked_index in masked_indexes:\n",
        "        predicted_index = torch.argmax(predictions[0, masked_index]).item()\n",
        "        predicted_tokens.append(_tokenizer.convert_ids_to_tokens([predicted_index])[0])\n",
        "\n",
        "    c = 0\n",
        "    texto_final = []\n",
        "    print(text)\n",
        "    print(predicted_tokens)\n",
        "    for word in text.split():\n",
        "        if word == \"[CLS]\" or word == \"[SEP]\":\n",
        "            continue\n",
        "        if word == \"[MASK]\":\n",
        "            if predicted_tokens[c].lower() in ARTICLES:\n",
        "                texto_final.append(predicted_tokens[c])\n",
        "                c += 1\n",
        "            else:\n",
        "                c += 1\n",
        "                continue\n",
        "        else:\n",
        "            texto_final.append(word)\n",
        "\n",
        "    return \" \".join(texto_final)\n",
        "\n",
        "\n",
        "def tag(sentence):\n",
        "    sentence = sentence.split()\n",
        "    return _pos_tagger.tag(sentence)\n",
        "\n",
        "\n",
        "def mask_sentence(sentece):\n",
        "    tagged_sentence = tag(sentece)\n",
        "    prev = [(\"\", \"\")]\n",
        "    masked_sentence = [\"[CLS]\"]\n",
        "\n",
        "    for tagged_word in tagged_sentence:\n",
        "\n",
        "        # SI ANTES DE ADV+ADJ NO HAY NI SUST NI ART PUEDE IR UN ART\n",
        "        # Juan es el más listo\n",
        "        if (\n",
        "            is_adjective(tagged_word)\n",
        "            and is_adverb(prev[-1])\n",
        "            and not (is_determinant(prev[-2]) or is_noun(prev[-2]))\n",
        "        ):\n",
        "            masked_sentence.append(MASK)\n",
        "            # print(1, tagged_word[0])\n",
        "\n",
        "        # SI ANTES DE UN ADJ O DE UN ADV NO HAY NI SUST NI ART PUEDE IR UN ART\n",
        "        # los listos y los guapos // han ganado los rojos\n",
        "        # TODO(Xiang): cambiado \"is_adverb(prev[-1])\" por \"is_adverb(tagged_word)\"\n",
        "        if (is_adjective(tagged_word) or is_adverb(tagged_word)) and not (\n",
        "            is_determinant(prev[-1]) or is_noun(prev[-1])\n",
        "        ):\n",
        "            masked_sentence.append(MASK)\n",
        "            # print(2, tagged_word[0])\n",
        "\n",
        "        # ART-PRONREL(QUE, CUAL, CUALES) = PRON REL COMPUESTO (EL QUE, EL CUAL, LOS CUALES)\n",
        "        # TODO(Xiang): .lower()\n",
        "        if tagged_word[0].lower() in RELATIVE_PRONOUNS and not is_determinant(prev[-1]):\n",
        "            masked_sentence.append(MASK)\n",
        "            # print(3, tagged_word[0])\n",
        "\n",
        "        # ANTES DE UN SUST PUEDE IR UN ART\n",
        "        # TODO(Xiang): he comprobado si ya tiene un articulo\n",
        "        if is_noun(tagged_word) and not is_determinant(prev[-1]):\n",
        "            masked_sentence.append(MASK)\n",
        "            # print(4, tagged_word[0])\n",
        "\n",
        "        masked_sentence.append(tagged_word[0])\n",
        "        prev.append(tagged_word)\n",
        "\n",
        "    masked_sentence.append(\"[SEP]\")\n",
        "    return \" \".join(masked_sentence)\n",
        "\n",
        "\n",
        "# helper functions\n",
        "def is_noun(tagged_word: Tuple[str, str]):\n",
        "    return tagged_word[1].startswith(\"n\")\n",
        "\n",
        "\n",
        "def is_adjective(tagged_word: Tuple[str, str]):\n",
        "    return tagged_word[1].startswith(\"a\")\n",
        "\n",
        "\n",
        "def is_adverb(tagged_word: Tuple[str, str]):\n",
        "    return tagged_word[1].startswith(\"r\")\n",
        "\n",
        "\n",
        "def is_determinant(tagged_word: Tuple[str, str]):\n",
        "    return tagged_word[1].startswith(\"d\")"
      ],
      "execution_count": 4,
      "outputs": [
        {
          "output_type": "stream",
          "text": [
            "/usr/local/lib/python3.6/dist-packages/nltk/tag/stanford.py:149: DeprecationWarning: \n",
            "The StanfordTokenizer will be deprecated in version 3.2.5.\n",
            "Please use \u001b[91mnltk.tag.corenlp.CoreNLPPOSTagger\u001b[0m or \u001b[91mnltk.tag.corenlp.CoreNLPNERTagger\u001b[0m instead.\n",
            "  super(StanfordPOSTagger, self).__init__(*args, **kwargs)\n"
          ],
          "name": "stderr"
        },
        {
          "output_type": "display_data",
          "data": {
            "application/vnd.jupyter.widget-view+json": {
              "model_id": "d943b68d4bc944399ad6d84347b6274f",
              "version_minor": 0,
              "version_major": 2
            },
            "text/plain": [
              "HBox(children=(IntProgress(value=0, description='Downloading', max=995526, style=ProgressStyle(description_wid…"
            ]
          },
          "metadata": {
            "tags": []
          }
        },
        {
          "output_type": "stream",
          "text": [
            "\n"
          ],
          "name": "stdout"
        },
        {
          "output_type": "display_data",
          "data": {
            "application/vnd.jupyter.widget-view+json": {
              "model_id": "386bd1165b794a67b1559b2481469f31",
              "version_minor": 0,
              "version_major": 2
            },
            "text/plain": [
              "HBox(children=(IntProgress(value=0, description='Downloading', max=569, style=ProgressStyle(description_width=…"
            ]
          },
          "metadata": {
            "tags": []
          }
        },
        {
          "output_type": "stream",
          "text": [
            "\n"
          ],
          "name": "stdout"
        },
        {
          "output_type": "display_data",
          "data": {
            "application/vnd.jupyter.widget-view+json": {
              "model_id": "57456d5281e347649e74841286fd3545",
              "version_minor": 0,
              "version_major": 2
            },
            "text/plain": [
              "HBox(children=(IntProgress(value=0, description='Downloading', max=714314041, style=ProgressStyle(description_…"
            ]
          },
          "metadata": {
            "tags": []
          }
        },
        {
          "output_type": "stream",
          "text": [
            "\n"
          ],
          "name": "stdout"
        }
      ]
    },
    {
      "cell_type": "code",
      "metadata": {
        "id": "OqVo-sqrFDyb",
        "colab_type": "code",
        "colab": {
          "base_uri": "https://localhost:8080/",
          "height": 68
        },
        "outputId": "72c37996-c326-4705-bb77-ea6f06c20e3d"
      },
      "source": [
        "sentence = \"Fui cine a ver pelicula\"\n",
        "print(predictor(sentence))"
      ],
      "execution_count": 5,
      "outputs": [
        {
          "output_type": "stream",
          "text": [
            "[CLS] Fui [MASK] cine a ver [MASK] pelicula [SEP]\n",
            "['a', 'la']\n",
            "Fui cine a ver la pelicula\n"
          ],
          "name": "stdout"
        }
      ]
    },
    {
      "cell_type": "code",
      "metadata": {
        "id": "cViRbaO9FGIE",
        "colab_type": "code",
        "colab": {}
      },
      "source": [
        ""
      ],
      "execution_count": 0,
      "outputs": []
    }
  ]
}